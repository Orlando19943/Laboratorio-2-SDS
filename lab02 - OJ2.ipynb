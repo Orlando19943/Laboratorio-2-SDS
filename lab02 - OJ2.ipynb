{
 "cells":[
  {
   "cell_type":"markdown",
   "source":[
    "Orlando Osberto Cabrera Mejía #19943  \n",
    "José Javier Hurtarte Hernandez #19707\n",
    "\n",
    "# Laboratorio #2 - Detección SPAM"
   ],
   "attachments":{
    
   },
   "metadata":{
    "datalore":{
     "node_id":"zQlackQ3CeK7yuiZw9cgYb",
     "type":"MD",
     "hide_input_from_viewers":false,
     "hide_output_from_viewers":false,
     "report_properties":{
      
     }
    }
   }
  },
  {
   "cell_type":"code",
   "source":[
    "import pandas as pd\n",
    "import numpy as np\n",
    "import nltk\n",
    "import re\n",
    "from sklearn.feature_extraction.text import TfidfVectorizer\n",
    "from sklearn.feature_extraction.text import CountVectorizer\n",
    "from sklearn.model_selection import train_test_split, GridSearchCV\n",
    "from sklearn.naive_bayes import MultinomialNB\n",
    "from sklearn.metrics import accuracy_score, confusion_matrix, classification_report\n",
    "import seaborn as sns\n",
    "import matplotlib.pyplot as plt"
   ],
   "execution_count":null,
   "outputs":[
    
   ],
   "metadata":{
    "datalore":{
     "node_id":"3oYmVxNsIRsdkIWFYaPkBR",
     "type":"CODE",
     "hide_input_from_viewers":false,
     "hide_output_from_viewers":false,
     "report_properties":{
      
     }
    }
   }
  },
  {
   "cell_type":"code",
   "source":[
    "%matplotlib inline"
   ],
   "execution_count":null,
   "outputs":[
    
   ],
   "metadata":{
    "datalore":{
     "node_id":"VTqsrdnHGBtVFYQUXpdvxB",
     "type":"CODE",
     "hide_input_from_viewers":false,
     "hide_output_from_viewers":false,
     "report_properties":{
      
     }
    }
   }
  },
  {
   "cell_type":"markdown",
   "source":[
    "## Parte 1 - Ingeniería de Datos"
   ],
   "attachments":{
    
   },
   "metadata":{
    "datalore":{
     "node_id":"KLePVy8nWVE5pcWbtjHxzU",
     "type":"MD",
     "hide_input_from_viewers":false,
     "hide_output_from_viewers":false,
     "report_properties":{
      
     }
    }
   }
  },
  {
   "cell_type":"markdown",
   "source":[
    "### Exploración de Datos\n",
    "\n",
    "Para el laboratorio se proporcionan dos datasets distintos. Revise la data y realice las operaciones necesarias para unificar los datasets y que el dataset  final contenga el mensaje del correo y la etiqueta que indique si es SPAM o no. \n",
    "\n",
    "Muestre ejemplos de los datasets individuales y del dataset final. "
   ],
   "attachments":{
    
   },
   "metadata":{
    "datalore":{
     "node_id":"2TJUeeP4Mijx4VoeQ4bJ9o",
     "type":"MD",
     "hide_input_from_viewers":false,
     "hide_output_from_viewers":false,
     "report_properties":{
      
     }
    }
   }
  },
  {
   "cell_type":"code",
   "source":[
    "df1 = pd.read_csv(\".\/completeSpamAssassin.csv\")\n",
    "df2 = pd.read_csv(\".\/enronSpamSubset.csv\")"
   ],
   "execution_count":null,
   "outputs":[
    
   ],
   "metadata":{
    "datalore":{
     "node_id":"qWAOMj3iEHZREbTO2OyMxz",
     "type":"CODE",
     "hide_input_from_viewers":false,
     "hide_output_from_viewers":false,
     "report_properties":{
      
     }
    }
   }
  },
  {
   "cell_type":"code",
   "source":[
    "display(df1.head(5))\n",
    "display(df2.head(5))"
   ],
   "execution_count":null,
   "outputs":[
    {
     "name":"stdout",
     "text":[
      "\n"
     ],
     "output_type":"stream"
    },
    {
     "name":"stderr",
     "text":[
      "\n"
     ],
     "output_type":"stream"
    },
    {
     "data":{
      "text\/html":[
       "<div>\n",
       "<style scoped>\n",
       "    .dataframe tbody tr th:only-of-type {\n",
       "        vertical-align: middle;\n",
       "    }\n",
       "\n",
       "    .dataframe tbody tr th {\n",
       "        vertical-align: top;\n",
       "    }\n",
       "\n",
       "    .dataframe thead th {\n",
       "        text-align: right;\n",
       "    }\n",
       "<\/style>\n",
       "<table border=\"1\" class=\"dataframe\">\n",
       "  <thead>\n",
       "    <tr style=\"text-align: right;\">\n",
       "      <th><\/th>\n",
       "      <th>Unnamed: 0<\/th>\n",
       "      <th>Body<\/th>\n",
       "      <th>Label<\/th>\n",
       "    <\/tr>\n",
       "  <\/thead>\n",
       "  <tbody>\n",
       "    <tr>\n",
       "      <th>0<\/th>\n",
       "      <td>0<\/td>\n",
       "      <td>\\nSave up to 70% on Life Insurance.\\nWhy Spend...<\/td>\n",
       "      <td>1<\/td>\n",
       "    <\/tr>\n",
       "    <tr>\n",
       "      <th>1<\/th>\n",
       "      <td>1<\/td>\n",
       "      <td>1) Fight The Risk of Cancer!\\nhttp:\/\/www.adcli...<\/td>\n",
       "      <td>1<\/td>\n",
       "    <\/tr>\n",
       "    <tr>\n",
       "      <th>2<\/th>\n",
       "      <td>2<\/td>\n",
       "      <td>1) Fight The Risk of Cancer!\\nhttp:\/\/www.adcli...<\/td>\n",
       "      <td>1<\/td>\n",
       "    <\/tr>\n",
       "    <tr>\n",
       "      <th>3<\/th>\n",
       "      <td>3<\/td>\n",
       "      <td>##############################################...<\/td>\n",
       "      <td>1<\/td>\n",
       "    <\/tr>\n",
       "    <tr>\n",
       "      <th>4<\/th>\n",
       "      <td>4<\/td>\n",
       "      <td>I thought you might like these:\\n1) Slim Down ...<\/td>\n",
       "      <td>1<\/td>\n",
       "    <\/tr>\n",
       "  <\/tbody>\n",
       "<\/table>\n",
       "<\/div>"
      ]
     },
     "metadata":{
      
     },
     "output_type":"display_data"
    },
    {
     "data":{
      "text\/plain":[
       "   Unnamed: 0                                               Body  Label\n",
       "0           0  \\nSave up to 70% on Life Insurance.\\nWhy Spend...      1\n",
       "1           1  1) Fight The Risk of Cancer!\\nhttp:\/\/www.adcli...      1\n",
       "2           2  1) Fight The Risk of Cancer!\\nhttp:\/\/www.adcli...      1\n",
       "3           3  ##############################################...      1\n",
       "4           4  I thought you might like these:\\n1) Slim Down ...      1"
      ]
     },
     "metadata":{
      
     },
     "output_type":"display_data"
    },
    {
     "data":{
      "text\/html":[
       "<div>\n",
       "<style scoped>\n",
       "    .dataframe tbody tr th:only-of-type {\n",
       "        vertical-align: middle;\n",
       "    }\n",
       "\n",
       "    .dataframe tbody tr th {\n",
       "        vertical-align: top;\n",
       "    }\n",
       "\n",
       "    .dataframe thead th {\n",
       "        text-align: right;\n",
       "    }\n",
       "<\/style>\n",
       "<table border=\"1\" class=\"dataframe\">\n",
       "  <thead>\n",
       "    <tr style=\"text-align: right;\">\n",
       "      <th><\/th>\n",
       "      <th>Unnamed: 0.1<\/th>\n",
       "      <th>Unnamed: 0<\/th>\n",
       "      <th>Body<\/th>\n",
       "      <th>Label<\/th>\n",
       "    <\/tr>\n",
       "  <\/thead>\n",
       "  <tbody>\n",
       "    <tr>\n",
       "      <th>0<\/th>\n",
       "      <td>2469<\/td>\n",
       "      <td>2469<\/td>\n",
       "      <td>Subject: stock promo mover : cwtd\\n * * * urge...<\/td>\n",
       "      <td>1<\/td>\n",
       "    <\/tr>\n",
       "    <tr>\n",
       "      <th>1<\/th>\n",
       "      <td>5063<\/td>\n",
       "      <td>5063<\/td>\n",
       "      <td>Subject: are you listed in major search engine...<\/td>\n",
       "      <td>1<\/td>\n",
       "    <\/tr>\n",
       "    <tr>\n",
       "      <th>2<\/th>\n",
       "      <td>12564<\/td>\n",
       "      <td>12564<\/td>\n",
       "      <td>Subject: important information thu , 30 jun 20...<\/td>\n",
       "      <td>1<\/td>\n",
       "    <\/tr>\n",
       "    <tr>\n",
       "      <th>3<\/th>\n",
       "      <td>2796<\/td>\n",
       "      <td>2796<\/td>\n",
       "      <td>Subject: = ? utf - 8 ? q ? bask your life with...<\/td>\n",
       "      <td>1<\/td>\n",
       "    <\/tr>\n",
       "    <tr>\n",
       "      <th>4<\/th>\n",
       "      <td>1468<\/td>\n",
       "      <td>1468<\/td>\n",
       "      <td>Subject: \" bidstogo \" is places to go , things...<\/td>\n",
       "      <td>1<\/td>\n",
       "    <\/tr>\n",
       "  <\/tbody>\n",
       "<\/table>\n",
       "<\/div>"
      ]
     },
     "metadata":{
      
     },
     "output_type":"display_data"
    },
    {
     "data":{
      "text\/plain":[
       "   Unnamed: 0.1  Unnamed: 0  \\\n",
       "0          2469        2469   \n",
       "1          5063        5063   \n",
       "2         12564       12564   \n",
       "3          2796        2796   \n",
       "4          1468        1468   \n",
       "\n",
       "                                                Body  Label  \n",
       "0  Subject: stock promo mover : cwtd\\n * * * urge...      1  \n",
       "1  Subject: are you listed in major search engine...      1  \n",
       "2  Subject: important information thu , 30 jun 20...      1  \n",
       "3  Subject: = ? utf - 8 ? q ? bask your life with...      1  \n",
       "4  Subject: \" bidstogo \" is places to go , things...      1  "
      ]
     },
     "metadata":{
      
     },
     "output_type":"display_data"
    }
   ],
   "metadata":{
    "datalore":{
     "node_id":"XFwNtFeXzsDYkgYsuUJK00",
     "type":"CODE",
     "hide_input_from_viewers":false,
     "hide_output_from_viewers":false,
     "report_properties":{
      
     }
    }
   }
  },
  {
   "cell_type":"code",
   "source":[
    "df = pd.concat([df1, df2], ignore_index=True)\n",
    "del df1, df2"
   ],
   "execution_count":null,
   "outputs":[
    
   ],
   "metadata":{
    "datalore":{
     "node_id":"MQ7axSFQytwYvemBVDY2o2",
     "type":"CODE",
     "hide_input_from_viewers":false,
     "hide_output_from_viewers":false,
     "report_properties":{
      
     }
    }
   }
  },
  {
   "cell_type":"code",
   "source":[
    "df = df.drop(columns=['Unnamed: 0', 'Unnamed: 0.1'])\n",
    "df = df.rename(columns={'Label': 'spam'})"
   ],
   "execution_count":null,
   "outputs":[
    
   ],
   "metadata":{
    "datalore":{
     "node_id":"REvNAoQi1LdrJK0CtZJlIs",
     "type":"CODE",
     "hide_input_from_viewers":false,
     "hide_output_from_viewers":false,
     "report_properties":{
      
     }
    }
   }
  },
  {
   "cell_type":"code",
   "source":[
    "display(df.head(5))\n",
    "print(df.describe())"
   ],
   "execution_count":null,
   "outputs":[
    {
     "name":"stdout",
     "text":[
      "\n",
      "               spam\n",
      "count  16046.000000\n",
      "mean       0.429764\n",
      "std        0.495058\n",
      "min        0.000000\n",
      "25%        0.000000\n",
      "50%        0.000000\n",
      "75%        1.000000\n",
      "max        1.000000\n"
     ],
     "output_type":"stream"
    },
    {
     "name":"stderr",
     "text":[
      "\n"
     ],
     "output_type":"stream"
    },
    {
     "data":{
      "text\/html":[
       "<div>\n",
       "<style scoped>\n",
       "    .dataframe tbody tr th:only-of-type {\n",
       "        vertical-align: middle;\n",
       "    }\n",
       "\n",
       "    .dataframe tbody tr th {\n",
       "        vertical-align: top;\n",
       "    }\n",
       "\n",
       "    .dataframe thead th {\n",
       "        text-align: right;\n",
       "    }\n",
       "<\/style>\n",
       "<table border=\"1\" class=\"dataframe\">\n",
       "  <thead>\n",
       "    <tr style=\"text-align: right;\">\n",
       "      <th><\/th>\n",
       "      <th>Body<\/th>\n",
       "      <th>spam<\/th>\n",
       "    <\/tr>\n",
       "  <\/thead>\n",
       "  <tbody>\n",
       "    <tr>\n",
       "      <th>0<\/th>\n",
       "      <td>\\nSave up to 70% on Life Insurance.\\nWhy Spend...<\/td>\n",
       "      <td>1<\/td>\n",
       "    <\/tr>\n",
       "    <tr>\n",
       "      <th>1<\/th>\n",
       "      <td>1) Fight The Risk of Cancer!\\nhttp:\/\/www.adcli...<\/td>\n",
       "      <td>1<\/td>\n",
       "    <\/tr>\n",
       "    <tr>\n",
       "      <th>2<\/th>\n",
       "      <td>1) Fight The Risk of Cancer!\\nhttp:\/\/www.adcli...<\/td>\n",
       "      <td>1<\/td>\n",
       "    <\/tr>\n",
       "    <tr>\n",
       "      <th>3<\/th>\n",
       "      <td>##############################################...<\/td>\n",
       "      <td>1<\/td>\n",
       "    <\/tr>\n",
       "    <tr>\n",
       "      <th>4<\/th>\n",
       "      <td>I thought you might like these:\\n1) Slim Down ...<\/td>\n",
       "      <td>1<\/td>\n",
       "    <\/tr>\n",
       "  <\/tbody>\n",
       "<\/table>\n",
       "<\/div>"
      ]
     },
     "metadata":{
      
     },
     "output_type":"display_data"
    },
    {
     "data":{
      "text\/plain":[
       "                                                Body  spam\n",
       "0  \\nSave up to 70% on Life Insurance.\\nWhy Spend...     1\n",
       "1  1) Fight The Risk of Cancer!\\nhttp:\/\/www.adcli...     1\n",
       "2  1) Fight The Risk of Cancer!\\nhttp:\/\/www.adcli...     1\n",
       "3  ##############################################...     1\n",
       "4  I thought you might like these:\\n1) Slim Down ...     1"
      ]
     },
     "metadata":{
      
     },
     "output_type":"display_data"
    }
   ],
   "metadata":{
    "datalore":{
     "node_id":"ef0xXy3pT2EgM73O979fly",
     "type":"CODE",
     "hide_input_from_viewers":false,
     "hide_output_from_viewers":false,
     "report_properties":{
      
     }
    }
   }
  },
  {
   "cell_type":"markdown",
   "source":[
    "### Preprocesamiento\n",
    "\n",
    "Aplique las técnicas de pre – procesamiento de lenguaje natural que considere necesarias (conversión de minúsculas, mayúsculas, eliminación de acentos, expansión de contracciones, eliminación de stop words, etc.) "
   ],
   "attachments":{
    
   },
   "metadata":{
    "datalore":{
     "node_id":"Q7bTUlGnY7G5dXBHpXMyKi",
     "type":"MD",
     "hide_input_from_viewers":false,
     "hide_output_from_viewers":false,
     "report_properties":{
      
     }
    }
   }
  },
  {
   "cell_type":"code",
   "source":[
    "# Convertir a minusculas\n",
    "df['Bodu'] = df['Body'].apply(str)\n",
    "df[\"Body\"] = df[\"Body\"].str.lower()"
   ],
   "execution_count":null,
   "outputs":[
    
   ],
   "metadata":{
    "datalore":{
     "node_id":"HXpqE5UcyDVaMgLdlVQyvl",
     "type":"CODE",
     "hide_input_from_viewers":false,
     "hide_output_from_viewers":false,
     "report_properties":{
      
     }
    }
   }
  },
  {
   "cell_type":"code",
   "source":[
    "# Eliminando caracteres especiales\n",
    "df[\"Body\"] = df[\"Body\"].str.replace(r'[^a-zA-Z0-9\\s]', '')"
   ],
   "execution_count":null,
   "outputs":[
    {
     "name":"stderr",
     "text":[
      "C:\\Users\\josej\\AppData\\Local\\Temp\\ipykernel_11672\\3672544987.py:2: FutureWarning: The default value of regex will change from True to False in a future version.\n",
      "  df[\"Body\"] = df[\"Body\"].str.replace(r'[^a-zA-Z0-9\\s]', '')\n"
     ],
     "output_type":"stream"
    }
   ],
   "metadata":{
    "datalore":{
     "node_id":"TiTRmqnP6T7liRTOvK8jTF",
     "type":"CODE",
     "hide_input_from_viewers":false,
     "hide_output_from_viewers":false,
     "report_properties":{
      
     }
    }
   }
  },
  {
   "cell_type":"code",
   "source":[
    "df['Body'] = df['Body'].apply(str)\n",
    "df['Body'] = df['Body'].apply(lambda x: x.replace('\\n', ' '))"
   ],
   "execution_count":null,
   "outputs":[
    
   ],
   "metadata":{
    "datalore":{
     "node_id":"18KdZnI1yisEgZPCsdZdWm",
     "type":"CODE",
     "hide_input_from_viewers":false,
     "hide_output_from_viewers":false,
     "report_properties":{
      
     }
    }
   }
  },
  {
   "cell_type":"code",
   "source":[
    "# Eliminando stopwords\n",
    "stopwords = nltk.corpus.stopwords.words('english')\n",
    "df['Body'] = df['Body'].apply(lambda x: ' '.join([word for word in x.split() if word not in (stopwords)]))"
   ],
   "execution_count":null,
   "outputs":[
    
   ],
   "metadata":{
    "datalore":{
     "node_id":"WBrxZcc7KIOmfqViEuuCAW",
     "type":"CODE",
     "hide_input_from_viewers":false,
     "hide_output_from_viewers":false,
     "report_properties":{
      
     }
    }
   }
  },
  {
   "cell_type":"markdown",
   "source":[
    "Para obtener únicamente la raiz de las palabras"
   ],
   "attachments":{
    
   },
   "metadata":{
    "datalore":{
     "node_id":"05Vi2nsyFV75XKTR7p74fO",
     "type":"MD",
     "hide_input_from_viewers":false,
     "hide_output_from_viewers":false,
     "report_properties":{
      
     }
    }
   }
  },
  {
   "cell_type":"code",
   "source":[
    "stemmer = nltk.stem.PorterStemmer()\n",
    "df['Body'] = df['Body'].apply(lambda x: ' '.join([stemmer.stem(word) for word in x.split()]))"
   ],
   "execution_count":null,
   "outputs":[
    
   ],
   "metadata":{
    "datalore":{
     "node_id":"27LR51VnqqSx8SaC0FpF0c",
     "type":"CODE",
     "hide_input_from_viewers":false,
     "hide_output_from_viewers":false,
     "report_properties":{
      
     }
    }
   }
  },
  {
   "cell_type":"code",
   "source":[
    "df['Body'] = df['Body'].apply(str)\n",
    "df['Body']"
   ],
   "execution_count":null,
   "outputs":[
    {
     "data":{
      "text\/plain":[
       "0        save 70 life insur spend tolif quot save ensur...\n",
       "1        1 fight risk cancer httpwwwadclickwspcfmo315sp...\n",
       "2        1 fight risk cancer httpwwwadclickwspcfmo315sp...\n",
       "3        adult club offer free membership instant acces...\n",
       "4        thought might like 1 slim guarante lose 1012 l...\n",
       "                               ...                        \n",
       "16041    subject monday 22 nd oct louis half hour free ...\n",
       "16042    subject miss bloomberg deal stephani believ fo...\n",
       "16043    subject eop salari survey questionnair need es...\n",
       "16044    subject q 3 comparison hi louis comparison fir...\n",
       "16045    subject confidenti folder safe pass inform art...\n",
       "Name: Body, Length: 16046, dtype: object"
      ]
     },
     "metadata":{
      
     },
     "output_type":"display_data"
    }
   ],
   "metadata":{
    "datalore":{
     "node_id":"4uvWKxaQ9TPfMBIMWdtpnQ",
     "type":"CODE",
     "hide_input_from_viewers":false,
     "hide_output_from_viewers":false,
     "report_properties":{
      
     }
    }
   }
  },
  {
   "cell_type":"markdown",
   "source":[
    "### Representación de texto\n",
    "Utilice los modelos de BoG (para n = 1,2) y TF-IDF. Muestre algunos ejemplos de los mensajes en su \n",
    "representación numérica. "
   ],
   "attachments":{
    
   },
   "metadata":{
    "datalore":{
     "node_id":"NHpRuCX65F5XWpRcaA0pWy",
     "type":"MD",
     "hide_input_from_viewers":false,
     "hide_output_from_viewers":false,
     "report_properties":{
      
     }
    }
   }
  },
  {
   "cell_type":"code",
   "source":[
    "nltk.download('stopwords')\n",
    "nltk.download('punkt')"
   ],
   "execution_count":null,
   "outputs":[
    {
     "name":"stdout",
     "text":[
      "\n"
     ],
     "output_type":"stream"
    },
    {
     "name":"stderr",
     "text":[
      "[nltk_data] Downloading package stopwords to\n",
      "[nltk_data]     C:\\Users\\josej\\AppData\\Roaming\\nltk_data...\n",
      "[nltk_data]   Package stopwords is already up-to-date!\n",
      "[nltk_data] Downloading package punkt to\n",
      "[nltk_data]     C:\\Users\\josej\\AppData\\Roaming\\nltk_data...\n",
      "[nltk_data]   Package punkt is already up-to-date!\n",
      "\n"
     ],
     "output_type":"stream"
    },
    {
     "data":{
      "text\/plain":[
       "True"
      ]
     },
     "metadata":{
      
     },
     "output_type":"display_data"
    }
   ],
   "metadata":{
    "datalore":{
     "node_id":"G2RIwxlqRkPephsuJN53us",
     "type":"CODE",
     "hide_input_from_viewers":false,
     "hide_output_from_viewers":false,
     "report_properties":{
      
     }
    }
   }
  },
  {
   "cell_type":"code",
   "source":[
    "corpus = np.array(df[\"Body\"].to_list())"
   ],
   "execution_count":null,
   "outputs":[
    
   ],
   "metadata":{
    "datalore":{
     "node_id":"UNhYHrXpm8lP2Af6FoeqHh",
     "type":"CODE",
     "hide_input_from_viewers":false,
     "hide_output_from_viewers":false,
     "report_properties":{
      
     }
    }
   }
  },
  {
   "cell_type":"code",
   "source":[
    "stop_words = nltk.corpus.stopwords.words('english')\n",
    "\n",
    "def normalize_document(doc):\n",
    "    doc = doc.strip()\n",
    "    # tokenize document\n",
    "    tokens = nltk.word_tokenize(doc)\n",
    "    # filter stopwords out of document\n",
    "    filtered_tokens = [token for token in tokens if token not in stop_words]\n",
    "    # re-create document from filtered tokens\n",
    "    doc = ' '.join(filtered_tokens)\n",
    "    return doc\n",
    "\n",
    "normalize_corpus = np.vectorize(normalize_document)\n",
    "\n",
    "norm_corpus = normalize_corpus(corpus)"
   ],
   "execution_count":null,
   "outputs":[
    
   ],
   "metadata":{
    "datalore":{
     "node_id":"lXyeaSj0zIWxR5m60rG0Ih",
     "type":"CODE",
     "hide_input_from_viewers":false,
     "hide_output_from_viewers":false,
     "report_properties":{
      
     }
    }
   }
  },
  {
   "cell_type":"markdown",
   "source":[
    "### Bag of Words"
   ],
   "attachments":{
    
   },
   "metadata":{
    "datalore":{
     "node_id":"i6a3Oeif2gJgYxWBDxEPOU",
     "type":"MD",
     "hide_input_from_viewers":false,
     "hide_output_from_viewers":false,
     "report_properties":{
      
     }
    }
   }
  },
  {
   "cell_type":"code",
   "source":[
    "cv = CountVectorizer(min_df=0.1, max_df=0.8, ngram_range=(1,2))\n",
    "# Min_df y Max_df nos sirven para controlar el porcentaje mínimo y máximo de apariciones de un token\n",
    "cv_matrix = cv.fit_transform(norm_corpus).toarray()\n",
    "df_cv = pd.DataFrame(cv_matrix, columns=cv.get_feature_names_out())"
   ],
   "execution_count":null,
   "outputs":[
    
   ],
   "metadata":{
    "datalore":{
     "node_id":"VBNpfJKt9tHePbb2fXo8Ay",
     "type":"CODE",
     "hide_input_from_viewers":false,
     "hide_output_from_viewers":false,
     "report_properties":{
      
     }
    }
   }
  },
  {
   "cell_type":"code",
   "source":[
    "df_cv[\"spam\"] = df[\"spam\"]"
   ],
   "execution_count":null,
   "outputs":[
    
   ],
   "metadata":{
    "datalore":{
     "node_id":"k9ThhmHy34OvBfmqmpyEFZ",
     "type":"CODE",
     "hide_input_from_viewers":false,
     "hide_output_from_viewers":false,
     "report_properties":{
      
     }
    }
   }
  },
  {
   "cell_type":"code",
   "source":[
    "df_cv.head(5)"
   ],
   "execution_count":null,
   "outputs":[
    {
     "data":{
      "text\/html":[
       "<div>\n",
       "<style scoped>\n",
       "    .dataframe tbody tr th:only-of-type {\n",
       "        vertical-align: middle;\n",
       "    }\n",
       "\n",
       "    .dataframe tbody tr th {\n",
       "        vertical-align: top;\n",
       "    }\n",
       "\n",
       "    .dataframe thead th {\n",
       "        text-align: right;\n",
       "    }\n",
       "<\/style>\n",
       "<table border=\"1\" class=\"dataframe\">\n",
       "  <thead>\n",
       "    <tr style=\"text-align: right;\">\n",
       "      <th><\/th>\n",
       "      <th>10<\/th>\n",
       "      <th>2000<\/th>\n",
       "      <th>2002<\/th>\n",
       "      <th>address<\/th>\n",
       "      <th>also<\/th>\n",
       "      <th>avail<\/th>\n",
       "      <th>best<\/th>\n",
       "      <th>busi<\/th>\n",
       "      <th>call<\/th>\n",
       "      <th>cc<\/th>\n",
       "      <th>...<\/th>\n",
       "      <th>us<\/th>\n",
       "      <th>use<\/th>\n",
       "      <th>want<\/th>\n",
       "      <th>way<\/th>\n",
       "      <th>week<\/th>\n",
       "      <th>well<\/th>\n",
       "      <th>work<\/th>\n",
       "      <th>would<\/th>\n",
       "      <th>year<\/th>\n",
       "      <th>spam<\/th>\n",
       "    <\/tr>\n",
       "  <\/thead>\n",
       "  <tbody>\n",
       "    <tr>\n",
       "      <th>0<\/th>\n",
       "      <td>0<\/td>\n",
       "      <td>0<\/td>\n",
       "      <td>0<\/td>\n",
       "      <td>0<\/td>\n",
       "      <td>0<\/td>\n",
       "      <td>0<\/td>\n",
       "      <td>3<\/td>\n",
       "      <td>0<\/td>\n",
       "      <td>0<\/td>\n",
       "      <td>0<\/td>\n",
       "      <td>...<\/td>\n",
       "      <td>1<\/td>\n",
       "      <td>0<\/td>\n",
       "      <td>0<\/td>\n",
       "      <td>0<\/td>\n",
       "      <td>0<\/td>\n",
       "      <td>0<\/td>\n",
       "      <td>0<\/td>\n",
       "      <td>0<\/td>\n",
       "      <td>0<\/td>\n",
       "      <td>1<\/td>\n",
       "    <\/tr>\n",
       "    <tr>\n",
       "      <th>1<\/th>\n",
       "      <td>0<\/td>\n",
       "      <td>0<\/td>\n",
       "      <td>0<\/td>\n",
       "      <td>0<\/td>\n",
       "      <td>0<\/td>\n",
       "      <td>0<\/td>\n",
       "      <td>0<\/td>\n",
       "      <td>0<\/td>\n",
       "      <td>0<\/td>\n",
       "      <td>0<\/td>\n",
       "      <td>...<\/td>\n",
       "      <td>0<\/td>\n",
       "      <td>1<\/td>\n",
       "      <td>0<\/td>\n",
       "      <td>0<\/td>\n",
       "      <td>0<\/td>\n",
       "      <td>0<\/td>\n",
       "      <td>0<\/td>\n",
       "      <td>0<\/td>\n",
       "      <td>0<\/td>\n",
       "      <td>1<\/td>\n",
       "    <\/tr>\n",
       "    <tr>\n",
       "      <th>2<\/th>\n",
       "      <td>0<\/td>\n",
       "      <td>0<\/td>\n",
       "      <td>0<\/td>\n",
       "      <td>0<\/td>\n",
       "      <td>0<\/td>\n",
       "      <td>0<\/td>\n",
       "      <td>0<\/td>\n",
       "      <td>0<\/td>\n",
       "      <td>0<\/td>\n",
       "      <td>0<\/td>\n",
       "      <td>...<\/td>\n",
       "      <td>0<\/td>\n",
       "      <td>1<\/td>\n",
       "      <td>0<\/td>\n",
       "      <td>0<\/td>\n",
       "      <td>0<\/td>\n",
       "      <td>0<\/td>\n",
       "      <td>0<\/td>\n",
       "      <td>0<\/td>\n",
       "      <td>0<\/td>\n",
       "      <td>1<\/td>\n",
       "    <\/tr>\n",
       "    <tr>\n",
       "      <th>3<\/th>\n",
       "      <td>0<\/td>\n",
       "      <td>0<\/td>\n",
       "      <td>0<\/td>\n",
       "      <td>0<\/td>\n",
       "      <td>0<\/td>\n",
       "      <td>0<\/td>\n",
       "      <td>3<\/td>\n",
       "      <td>0<\/td>\n",
       "      <td>0<\/td>\n",
       "      <td>0<\/td>\n",
       "      <td>...<\/td>\n",
       "      <td>1<\/td>\n",
       "      <td>0<\/td>\n",
       "      <td>0<\/td>\n",
       "      <td>0<\/td>\n",
       "      <td>0<\/td>\n",
       "      <td>0<\/td>\n",
       "      <td>0<\/td>\n",
       "      <td>0<\/td>\n",
       "      <td>1<\/td>\n",
       "      <td>1<\/td>\n",
       "    <\/tr>\n",
       "    <tr>\n",
       "      <th>4<\/th>\n",
       "      <td>0<\/td>\n",
       "      <td>0<\/td>\n",
       "      <td>0<\/td>\n",
       "      <td>0<\/td>\n",
       "      <td>0<\/td>\n",
       "      <td>0<\/td>\n",
       "      <td>0<\/td>\n",
       "      <td>0<\/td>\n",
       "      <td>0<\/td>\n",
       "      <td>0<\/td>\n",
       "      <td>...<\/td>\n",
       "      <td>0<\/td>\n",
       "      <td>1<\/td>\n",
       "      <td>0<\/td>\n",
       "      <td>0<\/td>\n",
       "      <td>0<\/td>\n",
       "      <td>0<\/td>\n",
       "      <td>0<\/td>\n",
       "      <td>0<\/td>\n",
       "      <td>0<\/td>\n",
       "      <td>1<\/td>\n",
       "    <\/tr>\n",
       "  <\/tbody>\n",
       "<\/table>\n",
       "<p>5 rows × 91 columns<\/p>\n",
       "<\/div>"
      ]
     },
     "metadata":{
      
     },
     "output_type":"display_data"
    },
    {
     "data":{
      "text\/plain":[
       "   10  2000  2002  address  also  avail  best  busi  call  cc  ...  us  use  \\\n",
       "0   0     0     0        0     0      0     3     0     0   0  ...   1    0   \n",
       "1   0     0     0        0     0      0     0     0     0   0  ...   0    1   \n",
       "2   0     0     0        0     0      0     0     0     0   0  ...   0    1   \n",
       "3   0     0     0        0     0      0     3     0     0   0  ...   1    0   \n",
       "4   0     0     0        0     0      0     0     0     0   0  ...   0    1   \n",
       "\n",
       "   want  way  week  well  work  would  year  spam  \n",
       "0     0    0     0     0     0      0     0     1  \n",
       "1     0    0     0     0     0      0     0     1  \n",
       "2     0    0     0     0     0      0     0     1  \n",
       "3     0    0     0     0     0      0     1     1  \n",
       "4     0    0     0     0     0      0     0     1  \n",
       "\n",
       "[5 rows x 91 columns]"
      ]
     },
     "metadata":{
      
     },
     "output_type":"display_data"
    }
   ],
   "metadata":{
    "datalore":{
     "node_id":"n5zOjf05V0uorEvtj1c1Dz",
     "type":"CODE",
     "hide_input_from_viewers":false,
     "hide_output_from_viewers":false,
     "report_properties":{
      
     }
    }
   }
  },
  {
   "cell_type":"markdown",
   "source":[
    "### TF - IDF"
   ],
   "attachments":{
    
   },
   "metadata":{
    "datalore":{
     "node_id":"hHxNZpmRBUG7vmP5ZVxmb9",
     "type":"MD",
     "hide_input_from_viewers":false,
     "hide_output_from_viewers":false,
     "report_properties":{
      
     }
    }
   }
  },
  {
   "cell_type":"code",
   "source":[
    "tv = TfidfVectorizer(ngram_range=(1,2),min_df=0.1, max_df=0.7, use_idf=True)\n",
    "tv_matrix = tv.fit_transform(norm_corpus).toarray()\n",
    "df_tv = pd.DataFrame(tv_matrix, columns=tv.get_feature_names_out())\n",
    "del tv_matrix, tv"
   ],
   "execution_count":null,
   "outputs":[
    
   ],
   "metadata":{
    "datalore":{
     "node_id":"ZjXMex0u0FVN2hpT4Otn6T",
     "type":"CODE",
     "hide_input_from_viewers":false,
     "hide_output_from_viewers":false,
     "report_properties":{
      
     }
    }
   }
  },
  {
   "cell_type":"code",
   "source":[
    "df_tv[\"spam\"] = df[\"spam\"]"
   ],
   "execution_count":null,
   "outputs":[
    
   ],
   "metadata":{
    "datalore":{
     "node_id":"ZDFb9fpIUTx07yUiAM32hm",
     "type":"CODE",
     "hide_input_from_viewers":false,
     "hide_output_from_viewers":false,
     "report_properties":{
      
     }
    }
   }
  },
  {
   "cell_type":"code",
   "source":[
    "df_tv.head(5)"
   ],
   "execution_count":null,
   "outputs":[
    {
     "data":{
      "text\/html":[
       "<div>\n",
       "<style scoped>\n",
       "    .dataframe tbody tr th:only-of-type {\n",
       "        vertical-align: middle;\n",
       "    }\n",
       "\n",
       "    .dataframe tbody tr th {\n",
       "        vertical-align: top;\n",
       "    }\n",
       "\n",
       "    .dataframe thead th {\n",
       "        text-align: right;\n",
       "    }\n",
       "<\/style>\n",
       "<table border=\"1\" class=\"dataframe\">\n",
       "  <thead>\n",
       "    <tr style=\"text-align: right;\">\n",
       "      <th><\/th>\n",
       "      <th>10<\/th>\n",
       "      <th>2000<\/th>\n",
       "      <th>2002<\/th>\n",
       "      <th>address<\/th>\n",
       "      <th>also<\/th>\n",
       "      <th>avail<\/th>\n",
       "      <th>best<\/th>\n",
       "      <th>busi<\/th>\n",
       "      <th>call<\/th>\n",
       "      <th>cc<\/th>\n",
       "      <th>...<\/th>\n",
       "      <th>us<\/th>\n",
       "      <th>use<\/th>\n",
       "      <th>want<\/th>\n",
       "      <th>way<\/th>\n",
       "      <th>week<\/th>\n",
       "      <th>well<\/th>\n",
       "      <th>work<\/th>\n",
       "      <th>would<\/th>\n",
       "      <th>year<\/th>\n",
       "      <th>spam<\/th>\n",
       "    <\/tr>\n",
       "  <\/thead>\n",
       "  <tbody>\n",
       "    <tr>\n",
       "      <th>0<\/th>\n",
       "      <td>0.0<\/td>\n",
       "      <td>0.0<\/td>\n",
       "      <td>0.0<\/td>\n",
       "      <td>0.0<\/td>\n",
       "      <td>0.0<\/td>\n",
       "      <td>0.0<\/td>\n",
       "      <td>0.433499<\/td>\n",
       "      <td>0.0<\/td>\n",
       "      <td>0.0<\/td>\n",
       "      <td>0.0<\/td>\n",
       "      <td>...<\/td>\n",
       "      <td>0.127005<\/td>\n",
       "      <td>0.000000<\/td>\n",
       "      <td>0.0<\/td>\n",
       "      <td>0.0<\/td>\n",
       "      <td>0.0<\/td>\n",
       "      <td>0.0<\/td>\n",
       "      <td>0.0<\/td>\n",
       "      <td>0.0<\/td>\n",
       "      <td>0.000000<\/td>\n",
       "      <td>1<\/td>\n",
       "    <\/tr>\n",
       "    <tr>\n",
       "      <th>1<\/th>\n",
       "      <td>0.0<\/td>\n",
       "      <td>0.0<\/td>\n",
       "      <td>0.0<\/td>\n",
       "      <td>0.0<\/td>\n",
       "      <td>0.0<\/td>\n",
       "      <td>0.0<\/td>\n",
       "      <td>0.000000<\/td>\n",
       "      <td>0.0<\/td>\n",
       "      <td>0.0<\/td>\n",
       "      <td>0.0<\/td>\n",
       "      <td>...<\/td>\n",
       "      <td>0.000000<\/td>\n",
       "      <td>0.216118<\/td>\n",
       "      <td>0.0<\/td>\n",
       "      <td>0.0<\/td>\n",
       "      <td>0.0<\/td>\n",
       "      <td>0.0<\/td>\n",
       "      <td>0.0<\/td>\n",
       "      <td>0.0<\/td>\n",
       "      <td>0.000000<\/td>\n",
       "      <td>1<\/td>\n",
       "    <\/tr>\n",
       "    <tr>\n",
       "      <th>2<\/th>\n",
       "      <td>0.0<\/td>\n",
       "      <td>0.0<\/td>\n",
       "      <td>0.0<\/td>\n",
       "      <td>0.0<\/td>\n",
       "      <td>0.0<\/td>\n",
       "      <td>0.0<\/td>\n",
       "      <td>0.000000<\/td>\n",
       "      <td>0.0<\/td>\n",
       "      <td>0.0<\/td>\n",
       "      <td>0.0<\/td>\n",
       "      <td>...<\/td>\n",
       "      <td>0.000000<\/td>\n",
       "      <td>0.251806<\/td>\n",
       "      <td>0.0<\/td>\n",
       "      <td>0.0<\/td>\n",
       "      <td>0.0<\/td>\n",
       "      <td>0.0<\/td>\n",
       "      <td>0.0<\/td>\n",
       "      <td>0.0<\/td>\n",
       "      <td>0.000000<\/td>\n",
       "      <td>1<\/td>\n",
       "    <\/tr>\n",
       "    <tr>\n",
       "      <th>3<\/th>\n",
       "      <td>0.0<\/td>\n",
       "      <td>0.0<\/td>\n",
       "      <td>0.0<\/td>\n",
       "      <td>0.0<\/td>\n",
       "      <td>0.0<\/td>\n",
       "      <td>0.0<\/td>\n",
       "      <td>0.241367<\/td>\n",
       "      <td>0.0<\/td>\n",
       "      <td>0.0<\/td>\n",
       "      <td>0.0<\/td>\n",
       "      <td>...<\/td>\n",
       "      <td>0.070715<\/td>\n",
       "      <td>0.000000<\/td>\n",
       "      <td>0.0<\/td>\n",
       "      <td>0.0<\/td>\n",
       "      <td>0.0<\/td>\n",
       "      <td>0.0<\/td>\n",
       "      <td>0.0<\/td>\n",
       "      <td>0.0<\/td>\n",
       "      <td>0.079249<\/td>\n",
       "      <td>1<\/td>\n",
       "    <\/tr>\n",
       "    <tr>\n",
       "      <th>4<\/th>\n",
       "      <td>0.0<\/td>\n",
       "      <td>0.0<\/td>\n",
       "      <td>0.0<\/td>\n",
       "      <td>0.0<\/td>\n",
       "      <td>0.0<\/td>\n",
       "      <td>0.0<\/td>\n",
       "      <td>0.000000<\/td>\n",
       "      <td>0.0<\/td>\n",
       "      <td>0.0<\/td>\n",
       "      <td>0.0<\/td>\n",
       "      <td>...<\/td>\n",
       "      <td>0.000000<\/td>\n",
       "      <td>0.257922<\/td>\n",
       "      <td>0.0<\/td>\n",
       "      <td>0.0<\/td>\n",
       "      <td>0.0<\/td>\n",
       "      <td>0.0<\/td>\n",
       "      <td>0.0<\/td>\n",
       "      <td>0.0<\/td>\n",
       "      <td>0.000000<\/td>\n",
       "      <td>1<\/td>\n",
       "    <\/tr>\n",
       "  <\/tbody>\n",
       "<\/table>\n",
       "<p>5 rows × 91 columns<\/p>\n",
       "<\/div>"
      ]
     },
     "metadata":{
      
     },
     "output_type":"display_data"
    },
    {
     "data":{
      "text\/plain":[
       "    10  2000  2002  address  also  avail      best  busi  call   cc  ...  \\\n",
       "0  0.0   0.0   0.0      0.0   0.0    0.0  0.433499   0.0   0.0  0.0  ...   \n",
       "1  0.0   0.0   0.0      0.0   0.0    0.0  0.000000   0.0   0.0  0.0  ...   \n",
       "2  0.0   0.0   0.0      0.0   0.0    0.0  0.000000   0.0   0.0  0.0  ...   \n",
       "3  0.0   0.0   0.0      0.0   0.0    0.0  0.241367   0.0   0.0  0.0  ...   \n",
       "4  0.0   0.0   0.0      0.0   0.0    0.0  0.000000   0.0   0.0  0.0  ...   \n",
       "\n",
       "         us       use  want  way  week  well  work  would      year  spam  \n",
       "0  0.127005  0.000000   0.0  0.0   0.0   0.0   0.0    0.0  0.000000     1  \n",
       "1  0.000000  0.216118   0.0  0.0   0.0   0.0   0.0    0.0  0.000000     1  \n",
       "2  0.000000  0.251806   0.0  0.0   0.0   0.0   0.0    0.0  0.000000     1  \n",
       "3  0.070715  0.000000   0.0  0.0   0.0   0.0   0.0    0.0  0.079249     1  \n",
       "4  0.000000  0.257922   0.0  0.0   0.0   0.0   0.0    0.0  0.000000     1  \n",
       "\n",
       "[5 rows x 91 columns]"
      ]
     },
     "metadata":{
      
     },
     "output_type":"display_data"
    }
   ],
   "metadata":{
    "datalore":{
     "node_id":"MkmLYd4x49nC9LKCjrspw4",
     "type":"CODE",
     "hide_input_from_viewers":false,
     "hide_output_from_viewers":false,
     "report_properties":{
      
     }
    }
   }
  },
  {
   "cell_type":"markdown",
   "source":[
    "### Representación de texto"
   ],
   "attachments":{
    
   },
   "metadata":{
    "datalore":{
     "node_id":"pABbHjxpfW91UwoxXeWDE6",
     "type":"MD",
     "hide_input_from_viewers":false,
     "hide_output_from_viewers":false,
     "report_properties":{
      
     }
    }
   }
  },
  {
   "cell_type":"markdown",
   "source":[
    "## Parte 2 - Implementación del modelo"
   ],
   "attachments":{
    
   },
   "metadata":{
    "datalore":{
     "node_id":"h2b7WJmt9i3tAt16tKA5mH",
     "type":"MD",
     "hide_input_from_viewers":false,
     "hide_output_from_viewers":false,
     "report_properties":{
      
     }
    }
   }
  },
  {
   "cell_type":"markdown",
   "source":[
    "### Separación de datos\n",
    "- Datos de entrenamiento: 70%\n",
    "- Datos de prueba: 30%"
   ],
   "attachments":{
    
   },
   "metadata":{
    "datalore":{
     "node_id":"kMBIJYmgpzeqUJvfVECRTe",
     "type":"MD",
     "hide_input_from_viewers":false,
     "hide_output_from_viewers":false,
     "report_properties":{
      
     }
    }
   }
  },
  {
   "cell_type":"code",
   "source":[
    "cv_test, cv_train = train_test_split(df_cv, test_size=0.7, random_state=42)\n",
    "tv_test, tv_train = train_test_split(df_tv, test_size=0.7, random_state=42)"
   ],
   "execution_count":null,
   "outputs":[
    
   ],
   "metadata":{
    "datalore":{
     "node_id":"YfiNpRRxCLOugTUaxNuxv0",
     "type":"CODE",
     "hide_input_from_viewers":false,
     "hide_output_from_viewers":false,
     "report_properties":{
      
     }
    }
   }
  },
  {
   "cell_type":"code",
   "source":[
    "print(\"CV test Shape\" , cv_test.shape)\n",
    "print(\"CV train Shape\" , cv_train.shape)\n",
    "print(\"TV test Shape\" , tv_test.shape)\n",
    "print(\"TV train Shape\" , tv_train.shape)"
   ],
   "execution_count":null,
   "outputs":[
    {
     "name":"stdout",
     "text":[
      "CV test Shape (4813, 91)\n",
      "CV train Shape (11233, 91)\n",
      "TV test Shape (4813, 91)\n",
      "TV train Shape (11233, 91)\n"
     ],
     "output_type":"stream"
    }
   ],
   "metadata":{
    "datalore":{
     "node_id":"2UGOQfdPq3g3RDueFGxDkE",
     "type":"CODE",
     "hide_input_from_viewers":false,
     "hide_output_from_viewers":false,
     "report_properties":{
      
     }
    }
   }
  },
  {
   "cell_type":"markdown",
   "source":[
    "### Implementación\n",
    "\n",
    "Utilice el algoritmo multinomial de NaiveBayes para entrenar el modelo con cada uno de los modelos de representación numérico. Muestre los valores obtenidos para las siguientes métricas: \n",
    "\n",
    "- Matriz de confusión\n",
    "- Precisión\n",
    "- Recall\n",
    "- F1 Score"
   ],
   "attachments":{
    
   },
   "metadata":{
    "datalore":{
     "node_id":"HIWAWBy6V2buKqIxoBNW4p",
     "type":"MD",
     "hide_input_from_viewers":false,
     "hide_output_from_viewers":false,
     "report_properties":{
      
     }
    }
   }
  },
  {
   "cell_type":"code",
   "source":[
    "# Naive Bayes con Bag of words \n",
    "params = {\n",
    "    'alpha': [0.1, 0.5, 1.0, 2.0],\n",
    "    'fit_prior': [True, False],\n",
    "    'class_prior': [None, [0.5, 0.5], [0.1, 0.9]]\n",
    "}\n",
    "clf = MultinomialNB()\n",
    "grid_search = GridSearchCV(clf, params, cv=10)\n",
    "grid_search.fit(cv_train.drop(columns=[\"spam\"]), cv_train[\"spam\"])\n",
    "\n",
    "print(\"Best hyperparameters: \", grid_search.best_params_)\n",
    "print(\"Best accuracy: \", grid_search.best_score_)"
   ],
   "execution_count":null,
   "outputs":[
    {
     "name":"stdout",
     "text":[
      "Best hyperparameters:  {'alpha': 1.0, 'class_prior': None, 'fit_prior': False}\n",
      "Best accuracy:  0.8299658863681738\n"
     ],
     "output_type":"stream"
    }
   ],
   "metadata":{
    "datalore":{
     "node_id":"zyEKRXQHEf66sUV5bHUIzh",
     "type":"CODE",
     "hide_input_from_viewers":false,
     "hide_output_from_viewers":false,
     "report_properties":{
      
     }
    }
   }
  },
  {
   "cell_type":"code",
   "source":[
    "# Naive Bayes con Bag of words \n",
    "cv_nb_pred = grid_search.predict(cv_test.drop(columns=[\"spam\"]))\n",
    "cv_nb_acc = accuracy_score(cv_test[\"spam\"], cv_nb_pred)"
   ],
   "execution_count":null,
   "outputs":[
    
   ],
   "metadata":{
    "datalore":{
     "node_id":"AFiUWZAT9zYeZsyAwKHLxk",
     "type":"CODE",
     "hide_input_from_viewers":false,
     "hide_output_from_viewers":false,
     "report_properties":{
      
     }
    }
   }
  },
  {
   "cell_type":"code",
   "source":[
    "ax = sns.heatmap(\n",
    "    confusion_matrix(cv_test[\"spam\"], cv_nb_pred), \n",
    "    annot=True, \n",
    "    fmt=\"d\", \n",
    "    yticklabels=[\"Spam\", \"No Spam\"], \n",
    "    xticklabels=[\"Spam\", \"No Spam\"],\n",
    ")\n",
    "ax.set(xlabel=\"Predicción\", ylabel=\"Valor Verdadero\")\n",
    "plt.show()"
   ],
   "execution_count":null,
   "outputs":[
    {
     "data":{
      "image\/png":"[encoded data removed]"
     },
     "metadata":{
      "image\/png":{
       
      }
     },
     "output_type":"display_data"
    },
    {
     "data":{
      "text\/plain":[
       "<Figure size 432x288 with 2 Axes>"
      ]
     },
     "metadata":{
      
     },
     "output_type":"display_data"
    }
   ],
   "metadata":{
    "datalore":{
     "node_id":"ZVBekIa9TZqgTiABs0OMp1",
     "type":"CODE",
     "hide_input_from_viewers":false,
     "hide_output_from_viewers":false,
     "report_properties":{
      
     }
    }
   }
  },
  {
   "cell_type":"code",
   "source":[
    "print(classification_report(cv_test[\"spam\"], cv_nb_pred, target_names=[\"Spam\", \"No Spam\"]))"
   ],
   "execution_count":null,
   "outputs":[
    {
     "name":"stdout",
     "text":[
      "              precision    recall  f1-score   support\n",
      "\n",
      "        Spam       0.83      0.87      0.85      2755\n",
      "     No Spam       0.82      0.76      0.79      2058\n",
      "\n",
      "    accuracy                           0.83      4813\n",
      "   macro avg       0.83      0.82      0.82      4813\n",
      "weighted avg       0.83      0.83      0.83      4813\n",
      "\n"
     ],
     "output_type":"stream"
    }
   ],
   "metadata":{
    "datalore":{
     "node_id":"jDNpyhq6jMMsqu7PjfsaM8",
     "type":"CODE",
     "hide_input_from_viewers":false,
     "hide_output_from_viewers":false,
     "report_properties":{
      
     }
    }
   }
  },
  {
   "cell_type":"markdown",
   "source":[
    "El modelo de multinomial NaiveBayes para Bag of words  clasificó correctamente 2405 mensajes como spam y clasificó correctamente 1573 mensajes como no spam. \n",
    "\n",
    "Esto se puede observar más a detalle en el reporte anterior, donde se puede observar el valor de precision. Este valor representa que porcentaje de los valores se clasificó correctamente, siendo que el modelo clasificó correctamente el 83% de los mensajes de spam como spam y logró clasificar correctamente el 82% de los mensajes que no eran spam como mensajes normales. \n",
    "\n",
    "Por otro lado, si se analiza la matriz por filas, se puede observar que el modelo clasificó un 13% de los mensajes de spam como mensajes normales o que no contenian spam y clasificó un 24% de los mensajes que no eran spam como spam. Esto se puede observal en el recall, el cual se obtuvo un 87% para los mensajes de spam y un 76% para los mensajes que no eran considerados spam.  \n",
    "\n",
    "Al analizar más a detalle, se puede observar que el modelo predice de mejor manera los mensajes que son spam como spam que los mensajes que no son spam como mensajes normales. Esto se puede observar en la métrica del f1-score, el cual fue mejor para el caso de los mensajes de spam (85%) que para los mensajes que no contenian spam (79%).\n",
    "\n"
   ],
   "attachments":{
    
   },
   "metadata":{
    "datalore":{
     "node_id":"X1yj9BHPtXU8XYFBB52wPg",
     "type":"MD",
     "hide_input_from_viewers":true,
     "hide_output_from_viewers":true
    }
   }
  },
  {
   "cell_type":"code",
   "source":[
    "# Naive Bayes con TF - IDF\n",
    "params = {\n",
    "    'alpha': [0.1, 0.5, 1.0, 2.0],\n",
    "    'fit_prior': [True, False],\n",
    "    'class_prior': [None, [0.5, 0.5], [0.1, 0.9], [0.9, 0.1], [0.2, 0.8], [0.8, 0.2]]\n",
    "}\n",
    "clf = MultinomialNB()\n",
    "grid_search = GridSearchCV(clf, params, cv=10)\n",
    "grid_search.fit(tv_train.drop(columns=[\"spam\"]), tv_train[\"spam\"])\n",
    "\n",
    "print(\"Best hyperparameters: \", grid_search.best_params_)\n",
    "print(\"Best accuracy: \", grid_search.best_score_)"
   ],
   "execution_count":null,
   "outputs":[
    {
     "name":"stdout",
     "text":[
      "Best hyperparameters:  {'alpha': 0.1, 'class_prior': None, 'fit_prior': True}\n",
      "Best accuracy:  0.8570281528569572\n"
     ],
     "output_type":"stream"
    }
   ],
   "metadata":{
    "datalore":{
     "node_id":"QAcqVqcU4MPMxt8joK6KXi",
     "type":"CODE",
     "hide_input_from_viewers":false,
     "hide_output_from_viewers":false,
     "report_properties":{
      
     }
    }
   }
  },
  {
   "cell_type":"code",
   "source":[
    "tv_nb_pred = grid_search.predict(tv_test.drop(columns=[\"spam\"]))\n",
    "tv_nb_acc = accuracy_score(tv_test[\"spam\"], cv_nb_pred)"
   ],
   "execution_count":null,
   "outputs":[
    
   ],
   "metadata":{
    "datalore":{
     "node_id":"swnwZ2VVjzkokYaBmSadSY",
     "type":"CODE",
     "hide_input_from_viewers":true,
     "hide_output_from_viewers":true
    }
   }
  },
  {
   "cell_type":"code",
   "source":[
    "ax = sns.heatmap(\n",
    "    confusion_matrix(tv_test[\"spam\"], tv_nb_pred), \n",
    "    annot=True, \n",
    "    fmt=\"d\", \n",
    "    yticklabels=[\"Spam\", \"No Spam\"], \n",
    "    xticklabels=[\"Spam\", \"No Spam\"],\n",
    ")\n",
    "ax.set(xlabel=\"Predicción\", ylabel=\"Valor Verdadero\")\n",
    "plt.show()"
   ],
   "execution_count":null,
   "outputs":[
    {
     "data":{
      "image\/png":"[encoded data removed]"
     },
     "metadata":{
      "image\/png":{
       
      }
     },
     "output_type":"display_data"
    },
    {
     "data":{
      "text\/plain":[
       "<Figure size 432x288 with 2 Axes>"
      ]
     },
     "metadata":{
      
     },
     "output_type":"display_data"
    }
   ],
   "metadata":{
    "datalore":{
     "node_id":"u21uxl9cXVnbYz8hi0GV7o",
     "type":"CODE",
     "hide_input_from_viewers":false,
     "hide_output_from_viewers":false,
     "report_properties":{
      
     }
    }
   }
  },
  {
   "cell_type":"code",
   "source":[
    "print(classification_report(tv_test[\"spam\"], tv_nb_pred, target_names=[\"Spam\", \"No Spam\"]))"
   ],
   "execution_count":null,
   "outputs":[
    {
     "name":"stdout",
     "text":[
      "              precision    recall  f1-score   support\n",
      "\n",
      "        Spam       0.84      0.92      0.88      2755\n",
      "     No Spam       0.88      0.77      0.82      2058\n",
      "\n",
      "    accuracy                           0.86      4813\n",
      "   macro avg       0.86      0.85      0.85      4813\n",
      "weighted avg       0.86      0.86      0.86      4813\n",
      "\n"
     ],
     "output_type":"stream"
    }
   ],
   "metadata":{
    "datalore":{
     "node_id":"JrgLv6KPXaoc7RspkwQwcA",
     "type":"CODE",
     "hide_input_from_viewers":false,
     "hide_output_from_viewers":false,
     "report_properties":{
      
     }
    }
   }
  },
  {
   "cell_type":"markdown",
   "source":[
    "El modelo de multinomial NaiveBayes para TF - IDF clasificó correctamente 2540 mensajes como spam y clasificó correctamente 1587 mensajes como no spam. \n",
    "\n",
    "Esto se puede observar más a detalle en el reporte anterior, donde se puede observar el valor de precision. Este valor representa que porcentaje de los valores se clasificó correctamente, siendo que el modelo clasificó correctamente el 84% de los mensajes de spam como spam y logró clasificar correctamente el 88% de los mensajes que no eran spam como mensajes normales. \n",
    "\n",
    "Por otro lado, si se analiza la matriz por filas, se puede observar que el modelo clasificó un 12% de los mensajes de spam como mensajes normales o que no contenian spam y clasificó un 23% de los mensajes que no eran spam como spam. Esto se puede observar en el recall, el cual se obtuvo un 88% para los mensajes de spam y un 77% para los mensajes que no eran considerados spam.  \n",
    "\n",
    "Al analizar más a detalle, se puede observar que el modelo predice de mejor manera los mensajes que son spam como spam que los mensajes que no son spam como mensajes normales. Esto se puede observar en la métrica del f1-score, el cual fue mejor para el caso de los mensajes de spam (88%) que para los mensajes que no contenian spam (82%)."
   ],
   "attachments":{
    
   },
   "metadata":{
    "datalore":{
     "node_id":"mOoF8lGrccHTXKNsfwNjZu",
     "type":"MD",
     "hide_input_from_viewers":true,
     "hide_output_from_viewers":true
    }
   }
  },
  {
   "cell_type":"markdown",
   "source":[
    "### Discusión"
   ],
   "attachments":{
    
   },
   "metadata":{
    "datalore":{
     "node_id":"o2Bifh8IUvK5Xr3uEfGaAE",
     "type":"MD",
     "hide_input_from_viewers":false,
     "hide_output_from_viewers":false,
     "report_properties":{
      
     }
    }
   }
  },
  {
   "cell_type":"markdown",
   "source":[
    "#### Compare los valores para cada modelo de representación numérico. ¿Qué modelo produjo el mejor resultado, BoG o TF-IDF? ¿A que se debe la mejora? Explique los valores obtenidos en las métricas para el mejor modelo. "
   ],
   "attachments":{
    
   },
   "metadata":{
    "datalore":{
     "node_id":"cMfslDyAHGjLX7gRNAHQi7",
     "type":"MD",
     "hide_input_from_viewers":false,
     "hide_output_from_viewers":false,
     "report_properties":{
      
     }
    }
   }
  },
  {
   "cell_type":"markdown",
   "source":[
    "Luego de analizar los resultados, se puede concluir que el modelo para TF - IDF dio un mejor resultado en general. Este modelo obtuvo valores más grande para todas las mediciones, pero destaca el recall para los mensajes de Spam y la precisión para los mensajes que no contenian spam. Al analizar las dos matrices de confusion, se puede observar que el modelo de TF - IDF obtuvo menos falsos negativos que el modelo realizado para Bag of Words. Esto significa que este modelo clasificó en menor medida los mensajes que eran spam como mensajes que no son spam. teniendo un 6% más de sensibilidad al momento de clasificar los que no son spam y un 1% más de sensibilidad al clasificar los que si son spam. Estas leves mejoras se pueden deber a que el modelo TF- IDF calcula que tan importante es cada palabra en el documento basado en su frecuencia por lo que cada vector producido toma en cuenta la importancia de cada palabra en el texto, por lo cual puede ser la causa de que se produzcan mejores resultados, ya que el BoG únicamente cuenta las ocurrencias sin tomar en cuenta un puntaje de importancia."
   ],
   "attachments":{
    
   },
   "metadata":{
    "datalore":{
     "node_id":"jiLnRPD3q5gqc0UTCK3CAO",
     "type":"MD",
     "hide_input_from_viewers":true,
     "hide_output_from_viewers":true
    }
   }
  }
 ],
 "metadata":{
  "kernelspec":{
   "display_name":"Python",
   "language":"python",
   "name":"python"
  },
  "datalore":{
   "version":1,
   "computation_mode":"JUPYTER",
   "package_manager":"pip",
   "base_environment":"default",
   "packages":[
    
   ]
  }
 },
 "nbformat":4,
 "nbformat_minor":4
}